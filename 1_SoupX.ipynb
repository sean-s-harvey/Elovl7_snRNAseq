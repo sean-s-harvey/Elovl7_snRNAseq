{
 "cells": [
  {
   "cell_type": "code",
   "execution_count": 1,
   "id": "25c9c2fa-89f8-4742-9f0f-4c4292841f02",
   "metadata": {},
   "outputs": [
    {
     "name": "stderr",
     "output_type": "stream",
     "text": [
      "Loading required package: SeuratObject\n",
      "\n",
      "Loading required package: sp\n",
      "\n",
      "\n",
      "Attaching package: ‘SeuratObject’\n",
      "\n",
      "\n",
      "The following object is masked from ‘package:base’:\n",
      "\n",
      "    intersect\n",
      "\n",
      "\n",
      "\n",
      "Attaching package: ‘dplyr’\n",
      "\n",
      "\n",
      "The following objects are masked from ‘package:stats’:\n",
      "\n",
      "    filter, lag\n",
      "\n",
      "\n",
      "The following objects are masked from ‘package:base’:\n",
      "\n",
      "    intersect, setdiff, setequal, union\n",
      "\n",
      "\n",
      "Loading required package: SingleCellExperiment\n",
      "\n",
      "Loading required package: SummarizedExperiment\n",
      "\n",
      "Loading required package: MatrixGenerics\n",
      "\n",
      "Loading required package: matrixStats\n",
      "\n",
      "\n",
      "Attaching package: ‘matrixStats’\n",
      "\n",
      "\n",
      "The following object is masked from ‘package:dplyr’:\n",
      "\n",
      "    count\n",
      "\n",
      "\n",
      "\n",
      "Attaching package: ‘MatrixGenerics’\n",
      "\n",
      "\n",
      "The following objects are masked from ‘package:matrixStats’:\n",
      "\n",
      "    colAlls, colAnyNAs, colAnys, colAvgsPerRowSet, colCollapse,\n",
      "    colCounts, colCummaxs, colCummins, colCumprods, colCumsums,\n",
      "    colDiffs, colIQRDiffs, colIQRs, colLogSumExps, colMadDiffs,\n",
      "    colMads, colMaxs, colMeans2, colMedians, colMins, colOrderStats,\n",
      "    colProds, colQuantiles, colRanges, colRanks, colSdDiffs, colSds,\n",
      "    colSums2, colTabulates, colVarDiffs, colVars, colWeightedMads,\n",
      "    colWeightedMeans, colWeightedMedians, colWeightedSds,\n",
      "    colWeightedVars, rowAlls, rowAnyNAs, rowAnys, rowAvgsPerColSet,\n",
      "    rowCollapse, rowCounts, rowCummaxs, rowCummins, rowCumprods,\n",
      "    rowCumsums, rowDiffs, rowIQRDiffs, rowIQRs, rowLogSumExps,\n",
      "    rowMadDiffs, rowMads, rowMaxs, rowMeans2, rowMedians, rowMins,\n",
      "    rowOrderStats, rowProds, rowQuantiles, rowRanges, rowRanks,\n",
      "    rowSdDiffs, rowSds, rowSums2, rowTabulates, rowVarDiffs, rowVars,\n",
      "    rowWeightedMads, rowWeightedMeans, rowWeightedMedians,\n",
      "    rowWeightedSds, rowWeightedVars\n",
      "\n",
      "\n",
      "Loading required package: GenomicRanges\n",
      "\n",
      "Loading required package: stats4\n",
      "\n",
      "Loading required package: BiocGenerics\n",
      "\n",
      "\n",
      "Attaching package: ‘BiocGenerics’\n",
      "\n",
      "\n",
      "The following objects are masked from ‘package:dplyr’:\n",
      "\n",
      "    combine, intersect, setdiff, union\n",
      "\n",
      "\n",
      "The following object is masked from ‘package:SeuratObject’:\n",
      "\n",
      "    intersect\n",
      "\n",
      "\n",
      "The following objects are masked from ‘package:stats’:\n",
      "\n",
      "    IQR, mad, sd, var, xtabs\n",
      "\n",
      "\n",
      "The following objects are masked from ‘package:base’:\n",
      "\n",
      "    anyDuplicated, aperm, append, as.data.frame, basename, cbind,\n",
      "    colnames, dirname, do.call, duplicated, eval, evalq, Filter, Find,\n",
      "    get, grep, grepl, intersect, is.unsorted, lapply, Map, mapply,\n",
      "    match, mget, order, paste, pmax, pmax.int, pmin, pmin.int,\n",
      "    Position, rank, rbind, Reduce, rownames, sapply, setdiff, sort,\n",
      "    table, tapply, union, unique, unsplit, which.max, which.min\n",
      "\n",
      "\n",
      "Loading required package: S4Vectors\n",
      "\n",
      "\n",
      "Attaching package: ‘S4Vectors’\n",
      "\n",
      "\n",
      "The following object is masked from ‘package:hdf5r’:\n",
      "\n",
      "    values\n",
      "\n",
      "\n",
      "The following objects are masked from ‘package:dplyr’:\n",
      "\n",
      "    first, rename\n",
      "\n",
      "\n",
      "The following object is masked from ‘package:utils’:\n",
      "\n",
      "    findMatches\n",
      "\n",
      "\n",
      "The following objects are masked from ‘package:base’:\n",
      "\n",
      "    expand.grid, I, unname\n",
      "\n",
      "\n",
      "Loading required package: IRanges\n",
      "\n",
      "\n",
      "Attaching package: ‘IRanges’\n",
      "\n",
      "\n",
      "The following objects are masked from ‘package:dplyr’:\n",
      "\n",
      "    collapse, desc, slice\n",
      "\n",
      "\n",
      "The following object is masked from ‘package:sp’:\n",
      "\n",
      "    %over%\n",
      "\n",
      "\n",
      "Loading required package: GenomeInfoDb\n",
      "\n",
      "Loading required package: Biobase\n",
      "\n",
      "Welcome to Bioconductor\n",
      "\n",
      "    Vignettes contain introductory material; view with\n",
      "    'browseVignettes()'. To cite Bioconductor, see\n",
      "    'citation(\"Biobase\")', and for packages 'citation(\"pkgname\")'.\n",
      "\n",
      "\n",
      "\n",
      "Attaching package: ‘Biobase’\n",
      "\n",
      "\n",
      "The following object is masked from ‘package:MatrixGenerics’:\n",
      "\n",
      "    rowMedians\n",
      "\n",
      "\n",
      "The following objects are masked from ‘package:matrixStats’:\n",
      "\n",
      "    anyMissing, rowMedians\n",
      "\n",
      "\n",
      "\n",
      "Attaching package: ‘SummarizedExperiment’\n",
      "\n",
      "\n",
      "The following object is masked from ‘package:Seurat’:\n",
      "\n",
      "    Assays\n",
      "\n",
      "\n",
      "The following object is masked from ‘package:SeuratObject’:\n",
      "\n",
      "    Assays\n",
      "\n",
      "\n"
     ]
    }
   ],
   "source": [
    "library(SoupX)\n",
    "library(Seurat)\n",
    "library(patchwork)\n",
    "library(sctransform)\n",
    "library(ggplot2)\n",
    "library(dplyr)\n",
    "library(hdf5r)\n",
    "library(DropletUtils)"
   ]
  },
  {
   "cell_type": "code",
   "execution_count": 2,
   "id": "77199175-9831-4a74-bb75-79e6aeaecd48",
   "metadata": {},
   "outputs": [
    {
     "name": "stderr",
     "output_type": "stream",
     "text": [
      "Warning message in system(\"timedatectl\", intern = TRUE):\n",
      "“running command 'timedatectl' had status 1”\n"
     ]
    },
    {
     "data": {
      "text/plain": [
       "R version 4.3.2 (2023-10-31)\n",
       "Platform: x86_64-conda-linux-gnu (64-bit)\n",
       "Running under: Rocky Linux 9.2 (Blue Onyx)\n",
       "\n",
       "Matrix products: default\n",
       "BLAS/LAPACK: /tscc/nfs/home/ssharvey/miniconda3/envs/r4-base/lib/libopenblasp-r0.3.25.so;  LAPACK version 3.11.0\n",
       "\n",
       "locale:\n",
       " [1] LC_CTYPE=en_US.UTF-8       LC_NUMERIC=C              \n",
       " [3] LC_TIME=en_US.UTF-8        LC_COLLATE=en_US.UTF-8    \n",
       " [5] LC_MONETARY=en_US.UTF-8    LC_MESSAGES=en_US.UTF-8   \n",
       " [7] LC_PAPER=en_US.UTF-8       LC_NAME=C                 \n",
       " [9] LC_ADDRESS=C               LC_TELEPHONE=C            \n",
       "[11] LC_MEASUREMENT=en_US.UTF-8 LC_IDENTIFICATION=C       \n",
       "\n",
       "time zone: America/Los_Angeles\n",
       "tzcode source: system (glibc)\n",
       "\n",
       "attached base packages:\n",
       "[1] stats4    stats     graphics  grDevices utils     datasets  methods  \n",
       "[8] base     \n",
       "\n",
       "other attached packages:\n",
       " [1] DropletUtils_1.20.0         SingleCellExperiment_1.22.0\n",
       " [3] SummarizedExperiment_1.30.2 Biobase_2.60.0             \n",
       " [5] GenomicRanges_1.52.0        GenomeInfoDb_1.36.1        \n",
       " [7] IRanges_2.34.1              S4Vectors_0.38.1           \n",
       " [9] BiocGenerics_0.46.0         MatrixGenerics_1.12.2      \n",
       "[11] matrixStats_1.1.0           hdf5r_1.3.8                \n",
       "[13] dplyr_1.1.4                 ggplot2_3.4.4              \n",
       "[15] sctransform_0.4.1           patchwork_1.2.0            \n",
       "[17] Seurat_5.0.1                SeuratObject_5.0.1         \n",
       "[19] sp_2.1-3                    SoupX_1.6.2                \n",
       "\n",
       "loaded via a namespace (and not attached):\n",
       "  [1] RcppAnnoy_0.0.22          splines_4.3.2            \n",
       "  [3] later_1.3.1               pbdZMQ_0.3-10            \n",
       "  [5] bitops_1.0-7              tibble_3.2.1             \n",
       "  [7] R.oo_1.25.0               polyclip_1.10-6          \n",
       "  [9] fastDummies_1.7.3         lifecycle_1.0.4          \n",
       " [11] edgeR_3.42.4              globals_0.16.2           \n",
       " [13] lattice_0.22-5            MASS_7.3-60              \n",
       " [15] magrittr_2.0.3            limma_3.58.1             \n",
       " [17] plotly_4.10.4             httpuv_1.6.12            \n",
       " [19] spam_2.10-0               spatstat.sparse_3.0-3    \n",
       " [21] reticulate_1.35.0         cowplot_1.1.3            \n",
       " [23] pbapply_1.7-2             RColorBrewer_1.1-3       \n",
       " [25] abind_1.4-5               zlibbioc_1.46.0          \n",
       " [27] Rtsne_0.17                purrr_1.0.2              \n",
       " [29] R.utils_2.12.3            RCurl_1.98-1.13          \n",
       " [31] GenomeInfoDbData_1.2.10   ggrepel_0.9.5            \n",
       " [33] irlba_2.3.5.1             listenv_0.9.1            \n",
       " [35] spatstat.utils_3.0-4      goftest_1.2-3            \n",
       " [37] RSpectra_0.16-1           spatstat.random_3.2-2    \n",
       " [39] dqrng_0.3.2               fitdistrplus_1.1-11      \n",
       " [41] parallelly_1.37.0         DelayedMatrixStats_1.22.1\n",
       " [43] leiden_0.4.3.1            codetools_0.2-19         \n",
       " [45] DelayedArray_0.26.6       scuttle_1.10.1           \n",
       " [47] tidyselect_1.2.0          base64enc_0.1-3          \n",
       " [49] spatstat.explore_3.2-6    jsonlite_1.8.7           \n",
       " [51] ellipsis_0.3.2            progressr_0.14.0         \n",
       " [53] ggridges_0.5.6            survival_3.5-8           \n",
       " [55] tools_4.3.2               ica_1.0-3                \n",
       " [57] Rcpp_1.0.12               glue_1.7.0               \n",
       " [59] gridExtra_2.3             IRdisplay_1.1            \n",
       " [61] HDF5Array_1.28.1          withr_3.0.0              \n",
       " [63] fastmap_1.1.1             rhdf5filters_1.12.1      \n",
       " [65] fansi_1.0.6               digest_0.6.33            \n",
       " [67] R6_2.5.1                  mime_0.12                \n",
       " [69] colorspace_2.1-0          scattermore_1.2          \n",
       " [71] tensor_1.5                spatstat.data_3.0-4      \n",
       " [73] R.methodsS3_1.8.2         utf8_1.2.4               \n",
       " [75] tidyr_1.3.1               generics_0.1.3           \n",
       " [77] data.table_1.15.0         httr_1.4.7               \n",
       " [79] htmlwidgets_1.6.3         S4Arrays_1.0.4           \n",
       " [81] uwot_0.1.16               pkgconfig_2.0.3          \n",
       " [83] gtable_0.3.4              lmtest_0.9-40            \n",
       " [85] XVector_0.40.0            htmltools_0.5.7          \n",
       " [87] dotCall64_1.1-1           scales_1.3.0             \n",
       " [89] png_0.1-8                 reshape2_1.4.4           \n",
       " [91] uuid_1.1-1                nlme_3.1-164             \n",
       " [93] repr_1.1.6                zoo_1.8-12               \n",
       " [95] rhdf5_2.44.0              stringr_1.5.1            \n",
       " [97] KernSmooth_2.23-22        parallel_4.3.2           \n",
       " [99] miniUI_0.1.1.1            pillar_1.9.0             \n",
       "[101] grid_4.3.2                vctrs_0.6.5              \n",
       "[103] RANN_2.6.1                promises_1.2.1           \n",
       "[105] beachmat_2.16.0           xtable_1.8-4             \n",
       "[107] cluster_2.1.6             evaluate_0.23            \n",
       "[109] locfit_1.5-9.8            cli_3.6.2                \n",
       "[111] compiler_4.3.2            rlang_1.1.3              \n",
       "[113] crayon_1.5.2              future.apply_1.11.1      \n",
       "[115] plyr_1.8.9                stringi_1.8.3            \n",
       "[117] viridisLite_0.4.2         deldir_2.0-4             \n",
       "[119] BiocParallel_1.34.2       munsell_0.5.0            \n",
       "[121] lazyeval_0.2.2            spatstat.geom_3.2-9      \n",
       "[123] Matrix_1.6-3              IRkernel_1.3.2           \n",
       "[125] RcppHNSW_0.6.0            sparseMatrixStats_1.12.2 \n",
       "[127] bit64_4.0.5               future_1.33.1            \n",
       "[129] Rhdf5lib_1.22.0           statmod_1.5.0            \n",
       "[131] shiny_1.8.0               ROCR_1.0-11              \n",
       "[133] igraph_2.0.2              bit_4.0.5                "
      ]
     },
     "metadata": {},
     "output_type": "display_data"
    }
   ],
   "source": [
    "sessionInfo()"
   ]
  },
  {
   "cell_type": "code",
   "execution_count": 183,
   "id": "ec6d7599-2eb0-43e3-9eea-2380a5c99a36",
   "metadata": {},
   "outputs": [],
   "source": [
    "filt.matrix <- Read10X_h5(\"~/scratch_2.0_new/fat7_snRNAseq/D6_fastqs_120523/Elovl7_cKO_saline_2/Elovl7_cKO_saline_2/outs/filtered_feature_bc_matrix.h5\")\n",
    "raw.matrix  <- Read10X_h5(\"~/scratch_2.0_new/fat7_snRNAseq/D6_fastqs_120523/Elovl7_cKO_saline_2/Elovl7_cKO_saline_2/outs/raw_feature_bc_matrix.h5\")"
   ]
  },
  {
   "cell_type": "code",
   "execution_count": 184,
   "id": "4c7c8841-3106-4418-b459-79418340864a",
   "metadata": {},
   "outputs": [
    {
     "data": {
      "text/plain": [
       "An object of class Seurat \n",
       "32285 features across 9365 samples within 1 assay \n",
       "Active assay: RNA (32285 features, 0 variable features)\n",
       " 1 layer present: counts"
      ]
     },
     "metadata": {},
     "output_type": "display_data"
    }
   ],
   "source": [
    "#create seurat object from the sparce matrix\n",
    "srat  <- CreateSeuratObject(counts = filt.matrix)\n",
    "srat"
   ]
  },
  {
   "cell_type": "code",
   "execution_count": 185,
   "id": "61ad4b2f-ee80-4379-aea2-de0b68ff81e4",
   "metadata": {},
   "outputs": [
    {
     "name": "stderr",
     "output_type": "stream",
     "text": [
      "Channel with 32285 genes and 9365 cells\n",
      "\n"
     ]
    }
   ],
   "source": [
    "#create SoupChannel\n",
    "soup.channel  <- SoupChannel(raw.matrix, filt.matrix)\n",
    "soup.channel"
   ]
  },
  {
   "cell_type": "code",
   "execution_count": 186,
   "id": "5191fe21-bab7-4c9d-9165-fab10bfea83c",
   "metadata": {},
   "outputs": [],
   "source": [
    "#perform clustering to better perform SoupX\n",
    "srat    <- SCTransform(srat, verbose = F)\n",
    "srat    <- RunPCA(srat, verbose = F)"
   ]
  },
  {
   "cell_type": "code",
   "execution_count": 187,
   "id": "ddb3fca7-4830-4f51-ba2a-bd7ac3308f38",
   "metadata": {},
   "outputs": [
    {
     "data": {
      "image/png": "[encoded data removed]",
      "text/plain": [
       "plot without title"
      ]
     },
     "metadata": {
      "image/png": {
       "height": 420,
       "width": 420
      }
     },
     "output_type": "display_data"
    }
   ],
   "source": [
    "ElbowPlot(srat)"
   ]
  },
  {
   "cell_type": "code",
   "execution_count": 188,
   "id": "a61bc2c4-6242-49fa-b172-c6066029ff28",
   "metadata": {},
   "outputs": [
    {
     "name": "stderr",
     "output_type": "stream",
     "text": [
      "Found more than one class \"dist\" in cache; using the first, from namespace 'spam'\n",
      "\n",
      "Also defined by ‘BiocGenerics’\n",
      "\n",
      "Found more than one class \"dist\" in cache; using the first, from namespace 'spam'\n",
      "\n",
      "Also defined by ‘BiocGenerics’\n",
      "\n"
     ]
    },
    {
     "name": "stdout",
     "output_type": "stream",
     "text": [
      "Modularity Optimizer version 1.3.0 by Ludo Waltman and Nees Jan van Eck\n",
      "\n",
      "Number of nodes: 9365\n",
      "Number of edges: 307376\n",
      "\n",
      "Running Louvain algorithm...\n",
      "Maximum modularity in 10 random starts: 0.9264\n",
      "Number of communities: 28\n",
      "Elapsed time: 0 seconds\n"
     ]
    }
   ],
   "source": [
    "srat    <- RunUMAP(srat, dims = 1:30, verbose = F)\n",
    "srat    <- FindNeighbors(srat, dims = 1:30, verbose = F)\n",
    "srat    <- FindClusters(srat, verbose = T)"
   ]
  },
  {
   "cell_type": "code",
   "execution_count": 189,
   "id": "da881307-d91e-47f2-98b0-59e144782682",
   "metadata": {},
   "outputs": [
    {
     "data": {
      "text/html": [
       "<table class=\"dataframe\">\n",
       "<caption>A data.frame: 6 × 7</caption>\n",
       "<thead>\n",
       "\t<tr><th></th><th scope=col>orig.ident</th><th scope=col>nCount_RNA</th><th scope=col>nFeature_RNA</th><th scope=col>nCount_SCT</th><th scope=col>nFeature_SCT</th><th scope=col>SCT_snn_res.0.8</th><th scope=col>seurat_clusters</th></tr>\n",
       "\t<tr><th></th><th scope=col>&lt;fct&gt;</th><th scope=col>&lt;dbl&gt;</th><th scope=col>&lt;int&gt;</th><th scope=col>&lt;dbl&gt;</th><th scope=col>&lt;int&gt;</th><th scope=col>&lt;fct&gt;</th><th scope=col>&lt;fct&gt;</th></tr>\n",
       "</thead>\n",
       "<tbody>\n",
       "\t<tr><th scope=row>AAACCCAAGGGCAATC-1</th><td>SeuratProject</td><td>17566</td><td>4525</td><td>9031</td><td>3674</td><td>10</td><td>10</td></tr>\n",
       "\t<tr><th scope=row>AAACCCACAGCTCATA-1</th><td>SeuratProject</td><td> 3143</td><td>1529</td><td>6956</td><td>1854</td><td>3 </td><td>3 </td></tr>\n",
       "\t<tr><th scope=row>AAACCCAGTACCTGTA-1</th><td>SeuratProject</td><td>  922</td><td> 507</td><td>5322</td><td>1956</td><td>7 </td><td>7 </td></tr>\n",
       "\t<tr><th scope=row>AAACCCAGTCAATGGG-1</th><td>SeuratProject</td><td>14826</td><td>4135</td><td>8949</td><td>3798</td><td>2 </td><td>2 </td></tr>\n",
       "\t<tr><th scope=row>AAACCCAGTCGAACGA-1</th><td>SeuratProject</td><td> 4007</td><td>1745</td><td>7258</td><td>1868</td><td>3 </td><td>3 </td></tr>\n",
       "\t<tr><th scope=row>AAACCCATCCGAACGC-1</th><td>SeuratProject</td><td> 1764</td><td>1005</td><td>6341</td><td>1820</td><td>5 </td><td>5 </td></tr>\n",
       "</tbody>\n",
       "</table>\n"
      ],
      "text/latex": [
       "A data.frame: 6 × 7\n",
       "\\begin{tabular}{r|lllllll}\n",
       "  & orig.ident & nCount\\_RNA & nFeature\\_RNA & nCount\\_SCT & nFeature\\_SCT & SCT\\_snn\\_res.0.8 & seurat\\_clusters\\\\\n",
       "  & <fct> & <dbl> & <int> & <dbl> & <int> & <fct> & <fct>\\\\\n",
       "\\hline\n",
       "\tAAACCCAAGGGCAATC-1 & SeuratProject & 17566 & 4525 & 9031 & 3674 & 10 & 10\\\\\n",
       "\tAAACCCACAGCTCATA-1 & SeuratProject &  3143 & 1529 & 6956 & 1854 & 3  & 3 \\\\\n",
       "\tAAACCCAGTACCTGTA-1 & SeuratProject &   922 &  507 & 5322 & 1956 & 7  & 7 \\\\\n",
       "\tAAACCCAGTCAATGGG-1 & SeuratProject & 14826 & 4135 & 8949 & 3798 & 2  & 2 \\\\\n",
       "\tAAACCCAGTCGAACGA-1 & SeuratProject &  4007 & 1745 & 7258 & 1868 & 3  & 3 \\\\\n",
       "\tAAACCCATCCGAACGC-1 & SeuratProject &  1764 & 1005 & 6341 & 1820 & 5  & 5 \\\\\n",
       "\\end{tabular}\n"
      ],
      "text/markdown": [
       "\n",
       "A data.frame: 6 × 7\n",
       "\n",
       "| <!--/--> | orig.ident &lt;fct&gt; | nCount_RNA &lt;dbl&gt; | nFeature_RNA &lt;int&gt; | nCount_SCT &lt;dbl&gt; | nFeature_SCT &lt;int&gt; | SCT_snn_res.0.8 &lt;fct&gt; | seurat_clusters &lt;fct&gt; |\n",
       "|---|---|---|---|---|---|---|---|\n",
       "| AAACCCAAGGGCAATC-1 | SeuratProject | 17566 | 4525 | 9031 | 3674 | 10 | 10 |\n",
       "| AAACCCACAGCTCATA-1 | SeuratProject |  3143 | 1529 | 6956 | 1854 | 3  | 3  |\n",
       "| AAACCCAGTACCTGTA-1 | SeuratProject |   922 |  507 | 5322 | 1956 | 7  | 7  |\n",
       "| AAACCCAGTCAATGGG-1 | SeuratProject | 14826 | 4135 | 8949 | 3798 | 2  | 2  |\n",
       "| AAACCCAGTCGAACGA-1 | SeuratProject |  4007 | 1745 | 7258 | 1868 | 3  | 3  |\n",
       "| AAACCCATCCGAACGC-1 | SeuratProject |  1764 | 1005 | 6341 | 1820 | 5  | 5  |\n",
       "\n"
      ],
      "text/plain": [
       "                   orig.ident    nCount_RNA nFeature_RNA nCount_SCT\n",
       "AAACCCAAGGGCAATC-1 SeuratProject 17566      4525         9031      \n",
       "AAACCCACAGCTCATA-1 SeuratProject  3143      1529         6956      \n",
       "AAACCCAGTACCTGTA-1 SeuratProject   922       507         5322      \n",
       "AAACCCAGTCAATGGG-1 SeuratProject 14826      4135         8949      \n",
       "AAACCCAGTCGAACGA-1 SeuratProject  4007      1745         7258      \n",
       "AAACCCATCCGAACGC-1 SeuratProject  1764      1005         6341      \n",
       "                   nFeature_SCT SCT_snn_res.0.8 seurat_clusters\n",
       "AAACCCAAGGGCAATC-1 3674         10              10             \n",
       "AAACCCACAGCTCATA-1 1854         3               3              \n",
       "AAACCCAGTACCTGTA-1 1956         7               7              \n",
       "AAACCCAGTCAATGGG-1 3798         2               2              \n",
       "AAACCCAGTCGAACGA-1 1868         3               3              \n",
       "AAACCCATCCGAACGC-1 1820         5               5              "
      ]
     },
     "metadata": {},
     "output_type": "display_data"
    }
   ],
   "source": [
    "#After clustering is obtained, it can be added to the channel using setClusters. setDR is useful for visualizations.\n",
    "meta    <- srat@meta.data\n",
    "umap    <- srat@reductions$umap@cell.embeddings\n",
    "soup.channel  <- setClusters(soup.channel, setNames(meta$seurat_clusters, rownames(meta)))\n",
    "soup.channel  <- setDR(soup.channel, umap)\n",
    "head(meta)"
   ]
  },
  {
   "cell_type": "code",
   "execution_count": 190,
   "id": "522ff0ab-9909-49d0-8d63-28f8dc1eb24b",
   "metadata": {},
   "outputs": [
    {
     "name": "stderr",
     "output_type": "stream",
     "text": [
      "Channel with 32285 genes and 9365 cells\n",
      "\n"
     ]
    }
   ],
   "source": [
    "soup.channel"
   ]
  },
  {
   "cell_type": "code",
   "execution_count": 191,
   "id": "2c2790a3-399e-40b9-adcb-a92a9112123c",
   "metadata": {},
   "outputs": [
    {
     "name": "stderr",
     "output_type": "stream",
     "text": [
      "1514 genes passed tf-idf cut-off and 133 soup quantile filter.  Taking the top 100.\n",
      "\n",
      "Using 1229 independent estimates of rho.\n",
      "\n",
      "Estimated global rho of 0.02\n",
      "\n"
     ]
    },
    {
     "data": {
      "image/png": "[encoded data removed]",
      "text/plain": [
       "plot without title"
      ]
     },
     "metadata": {
      "image/png": {
       "height": 420,
       "width": 420
      }
     },
     "output_type": "display_data"
    }
   ],
   "source": [
    "#calculate the automated ambient mRNA profile\n",
    "soup.channel  <- autoEstCont(soup.channel)"
   ]
  },
  {
   "cell_type": "code",
   "execution_count": 192,
   "id": "5db56539-969c-4f71-83b0-720454006d9c",
   "metadata": {},
   "outputs": [
    {
     "data": {
      "text/html": [
       "<table class=\"dataframe\">\n",
       "<caption>A data.frame: 20 × 2</caption>\n",
       "<thead>\n",
       "\t<tr><th></th><th scope=col>est</th><th scope=col>counts</th></tr>\n",
       "\t<tr><th></th><th scope=col>&lt;dbl&gt;</th><th scope=col>&lt;dbl&gt;</th></tr>\n",
       "</thead>\n",
       "<tbody>\n",
       "\t<tr><th scope=row>Malat1</th><td>0.060343363</td><td>161637</td></tr>\n",
       "\t<tr><th scope=row>Ptprd</th><td>0.005678295</td><td> 15210</td></tr>\n",
       "\t<tr><th scope=row>Gm42418</th><td>0.005412486</td><td> 14498</td></tr>\n",
       "\t<tr><th scope=row>Kcnip4</th><td>0.005191851</td><td> 13907</td></tr>\n",
       "\t<tr><th scope=row>Meg3</th><td>0.004871910</td><td> 13050</td></tr>\n",
       "\t<tr><th scope=row>Dpp10</th><td>0.004247335</td><td> 11377</td></tr>\n",
       "\t<tr><th scope=row>Celf2</th><td>0.004121897</td><td> 11041</td></tr>\n",
       "\t<tr><th scope=row>Nrxn3</th><td>0.003834062</td><td> 10270</td></tr>\n",
       "\t<tr><th scope=row>Dlg2</th><td>0.003791876</td><td> 10157</td></tr>\n",
       "\t<tr><th scope=row>Lsamp</th><td>0.003787770</td><td> 10146</td></tr>\n",
       "\t<tr><th scope=row>Pcdh9</th><td>0.003784783</td><td> 10138</td></tr>\n",
       "\t<tr><th scope=row>Nrg3</th><td>0.003453643</td><td>  9251</td></tr>\n",
       "\t<tr><th scope=row>Csmd1</th><td>0.003306552</td><td>  8857</td></tr>\n",
       "\t<tr><th scope=row>Rbfox1</th><td>0.003280793</td><td>  8788</td></tr>\n",
       "\t<tr><th scope=row>Nrxn1</th><td>0.003238233</td><td>  8674</td></tr>\n",
       "\t<tr><th scope=row>AY036118</th><td>0.003179621</td><td>  8517</td></tr>\n",
       "\t<tr><th scope=row>Snhg11</th><td>0.003039997</td><td>  8143</td></tr>\n",
       "\t<tr><th scope=row>Cadm2</th><td>0.002920533</td><td>  7823</td></tr>\n",
       "\t<tr><th scope=row>Opcml</th><td>0.002664804</td><td>  7138</td></tr>\n",
       "\t<tr><th scope=row>Syt1</th><td>0.002506514</td><td>  6714</td></tr>\n",
       "</tbody>\n",
       "</table>\n"
      ],
      "text/latex": [
       "A data.frame: 20 × 2\n",
       "\\begin{tabular}{r|ll}\n",
       "  & est & counts\\\\\n",
       "  & <dbl> & <dbl>\\\\\n",
       "\\hline\n",
       "\tMalat1 & 0.060343363 & 161637\\\\\n",
       "\tPtprd & 0.005678295 &  15210\\\\\n",
       "\tGm42418 & 0.005412486 &  14498\\\\\n",
       "\tKcnip4 & 0.005191851 &  13907\\\\\n",
       "\tMeg3 & 0.004871910 &  13050\\\\\n",
       "\tDpp10 & 0.004247335 &  11377\\\\\n",
       "\tCelf2 & 0.004121897 &  11041\\\\\n",
       "\tNrxn3 & 0.003834062 &  10270\\\\\n",
       "\tDlg2 & 0.003791876 &  10157\\\\\n",
       "\tLsamp & 0.003787770 &  10146\\\\\n",
       "\tPcdh9 & 0.003784783 &  10138\\\\\n",
       "\tNrg3 & 0.003453643 &   9251\\\\\n",
       "\tCsmd1 & 0.003306552 &   8857\\\\\n",
       "\tRbfox1 & 0.003280793 &   8788\\\\\n",
       "\tNrxn1 & 0.003238233 &   8674\\\\\n",
       "\tAY036118 & 0.003179621 &   8517\\\\\n",
       "\tSnhg11 & 0.003039997 &   8143\\\\\n",
       "\tCadm2 & 0.002920533 &   7823\\\\\n",
       "\tOpcml & 0.002664804 &   7138\\\\\n",
       "\tSyt1 & 0.002506514 &   6714\\\\\n",
       "\\end{tabular}\n"
      ],
      "text/markdown": [
       "\n",
       "A data.frame: 20 × 2\n",
       "\n",
       "| <!--/--> | est &lt;dbl&gt; | counts &lt;dbl&gt; |\n",
       "|---|---|---|\n",
       "| Malat1 | 0.060343363 | 161637 |\n",
       "| Ptprd | 0.005678295 |  15210 |\n",
       "| Gm42418 | 0.005412486 |  14498 |\n",
       "| Kcnip4 | 0.005191851 |  13907 |\n",
       "| Meg3 | 0.004871910 |  13050 |\n",
       "| Dpp10 | 0.004247335 |  11377 |\n",
       "| Celf2 | 0.004121897 |  11041 |\n",
       "| Nrxn3 | 0.003834062 |  10270 |\n",
       "| Dlg2 | 0.003791876 |  10157 |\n",
       "| Lsamp | 0.003787770 |  10146 |\n",
       "| Pcdh9 | 0.003784783 |  10138 |\n",
       "| Nrg3 | 0.003453643 |   9251 |\n",
       "| Csmd1 | 0.003306552 |   8857 |\n",
       "| Rbfox1 | 0.003280793 |   8788 |\n",
       "| Nrxn1 | 0.003238233 |   8674 |\n",
       "| AY036118 | 0.003179621 |   8517 |\n",
       "| Snhg11 | 0.003039997 |   8143 |\n",
       "| Cadm2 | 0.002920533 |   7823 |\n",
       "| Opcml | 0.002664804 |   7138 |\n",
       "| Syt1 | 0.002506514 |   6714 |\n",
       "\n"
      ],
      "text/plain": [
       "         est         counts\n",
       "Malat1   0.060343363 161637\n",
       "Ptprd    0.005678295  15210\n",
       "Gm42418  0.005412486  14498\n",
       "Kcnip4   0.005191851  13907\n",
       "Meg3     0.004871910  13050\n",
       "Dpp10    0.004247335  11377\n",
       "Celf2    0.004121897  11041\n",
       "Nrxn3    0.003834062  10270\n",
       "Dlg2     0.003791876  10157\n",
       "Lsamp    0.003787770  10146\n",
       "Pcdh9    0.003784783  10138\n",
       "Nrg3     0.003453643   9251\n",
       "Csmd1    0.003306552   8857\n",
       "Rbfox1   0.003280793   8788\n",
       "Nrxn1    0.003238233   8674\n",
       "AY036118 0.003179621   8517\n",
       "Snhg11   0.003039997   8143\n",
       "Cadm2    0.002920533   7823\n",
       "Opcml    0.002664804   7138\n",
       "Syt1     0.002506514   6714"
      ]
     },
     "metadata": {},
     "output_type": "display_data"
    }
   ],
   "source": [
    "head(soup.channel$soupProfile[order(soup.channel$soupProfile$est, decreasing = T), ], n = 20)"
   ]
  },
  {
   "cell_type": "code",
   "execution_count": 193,
   "id": "dceab872-51e0-4ca2-9759-4ec547981ab8",
   "metadata": {},
   "outputs": [
    {
     "name": "stderr",
     "output_type": "stream",
     "text": [
      "Warning message in sparseMatrix(i = out@i[w] + 1, j = out@j[w] + 1, x = out@x[w], :\n",
      "“'giveCsparse' is deprecated; setting repr=\"T\" for you”\n",
      "Expanding counts from 28 clusters to 9365 cells.\n",
      "\n"
     ]
    }
   ],
   "source": [
    "adj.matrix  <- adjustCounts(soup.channel, roundToInt = T)"
   ]
  },
  {
   "cell_type": "code",
   "execution_count": 194,
   "id": "b6cc9c56-1933-4a16-a797-515a48e53eb0",
   "metadata": {},
   "outputs": [],
   "source": [
    "#export SoupX filtered sparse matrix\n",
    "DropletUtils:::write10xCounts(\"D6_cKO_saline_2\", adj.matrix)"
   ]
  },
  {
   "cell_type": "code",
   "execution_count": null,
   "id": "c484724d-16e7-48f0-938b-297c2f00968c",
   "metadata": {},
   "outputs": [],
   "source": []
  }
 ],
 "metadata": {
  "kernelspec": {
   "display_name": "R",
   "language": "R",
   "name": "ir"
  },
  "language_info": {
   "codemirror_mode": "r",
   "file_extension": ".r",
   "mimetype": "text/x-r-source",
   "name": "R",
   "pygments_lexer": "r",
   "version": "4.3.2"
  }
 },
 "nbformat": 4,
 "nbformat_minor": 5
}
